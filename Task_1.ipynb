{
  "nbformat": 4,
  "nbformat_minor": 0,
  "metadata": {
    "colab": {
      "provenance": []
    },
    "kernelspec": {
      "name": "python3",
      "display_name": "Python 3"
    },
    "language_info": {
      "name": "python"
    }
  },
  "cells": [
    {
      "cell_type": "code",
      "execution_count": 1,
      "metadata": {
        "id": "HwSoCnATGdis"
      },
      "outputs": [],
      "source": [
        "# Import libraries\n",
        "import pandas as pd\n",
        "from sklearn.model_selection import train_test_split\n",
        "from sklearn.preprocessing import StandardScaler, OneHotEncoder\n",
        "from sklearn.compose import ColumnTransformer\n",
        "from sklearn.pipeline import Pipeline\n",
        "from sklearn.impute import SimpleImputer"
      ]
    },
    {
      "cell_type": "code",
      "source": [
        "# Step 1: Load dataset\n",
        "data = pd.read_csv(\"/content/weather_data.csv\")\n",
        "\n",
        "print(\"Data loaded successfully!\")\n",
        "print(\"Shape:\", data.shape)\n",
        "print(\"Columns:\", data.columns.tolist())\n",
        "print(data.head())"
      ],
      "metadata": {
        "colab": {
          "base_uri": "https://localhost:8080/"
        },
        "id": "FI6TZsY_HDRN",
        "outputId": "d84419ef-c6b7-4df7-e14c-54deb8f77121"
      },
      "execution_count": 2,
      "outputs": [
        {
          "output_type": "stream",
          "name": "stdout",
          "text": [
            "Data loaded successfully!\n",
            "Shape: (1462, 5)\n",
            "Columns: ['date', 'meantemp', 'humidity', 'wind_speed', 'meanpressure']\n",
            "         date   meantemp   humidity  wind_speed  meanpressure\n",
            "0  2013-01-01  10.000000  84.500000    0.000000   1015.666667\n",
            "1  2013-01-02   7.400000  92.000000    2.980000   1017.800000\n",
            "2  2013-01-03   7.166667  87.000000    4.633333   1018.666667\n",
            "3  2013-01-04   8.666667  71.333333    1.233333   1017.166667\n",
            "4  2013-01-05   6.000000  86.833333    3.700000   1016.500000\n"
          ]
        }
      ]
    },
    {
      "cell_type": "code",
      "source": [
        "# Step 2: Basic preprocessing\n",
        "# Identify numerical and categorical columns\n",
        "numerical_cols = data.select_dtypes(include=['int64', 'float64']).columns\n",
        "categorical_cols = data.select_dtypes(include=['object']).columns\n",
        "\n",
        "print(\"\\nNumerical Columns:\", numerical_cols.tolist())\n",
        "print(\"Categorical Columns:\", categorical_cols.tolist())"
      ],
      "metadata": {
        "colab": {
          "base_uri": "https://localhost:8080/"
        },
        "id": "2lelhxlSHF0-",
        "outputId": "d2fe7c49-b092-4dd6-fcda-bb84519cf19a"
      },
      "execution_count": 3,
      "outputs": [
        {
          "output_type": "stream",
          "name": "stdout",
          "text": [
            "\n",
            "Numerical Columns: ['meantemp', 'humidity', 'wind_speed', 'meanpressure']\n",
            "Categorical Columns: ['date']\n"
          ]
        }
      ]
    },
    {
      "cell_type": "code",
      "source": [
        "# Step 3: Define transformers\n",
        "\n",
        "# For numerical columns: handle missing values + scale\n",
        "numeric_transformer = Pipeline(steps=[\n",
        "    (\"imputer\", SimpleImputer(strategy=\"mean\")),\n",
        "    (\"scaler\", StandardScaler())\n",
        "])\n",
        "\n",
        "# For categorical columns: handle missing + one-hot encode\n",
        "categorical_transformer = Pipeline(steps=[\n",
        "    (\"imputer\", SimpleImputer(strategy=\"most_frequent\")),\n",
        "    (\"encoder\", OneHotEncoder(handle_unknown=\"ignore\"))\n",
        "])"
      ],
      "metadata": {
        "id": "xMreteblHGsQ"
      },
      "execution_count": 4,
      "outputs": []
    },
    {
      "cell_type": "code",
      "source": [
        "# Step 4: Combine transformations\n",
        "preprocessor = ColumnTransformer(transformers=[\n",
        "    (\"num\", numeric_transformer, numerical_cols),\n",
        "    (\"cat\", categorical_transformer, categorical_cols)\n",
        "])"
      ],
      "metadata": {
        "id": "Abw3jXyQHJcQ"
      },
      "execution_count": 5,
      "outputs": []
    },
    {
      "cell_type": "code",
      "source": [
        "# Step 5: Create preprocessing pipeline\n",
        "pipeline = Pipeline(steps=[\n",
        "    (\"preprocessor\", preprocessor)\n",
        "])"
      ],
      "metadata": {
        "id": "G5NsMWNBHTxg"
      },
      "execution_count": 6,
      "outputs": []
    },
    {
      "cell_type": "code",
      "source": [
        "# Step 6: Apply the pipeline to data\n",
        "processed_data = pipeline.fit_transform(data)\n",
        "\n",
        "# Convert processed data to DataFrame for easier use\n",
        "processed_df = pd.DataFrame(\n",
        "    processed_data.toarray() if hasattr(processed_data, \"toarray\") else processed_data\n",
        ")\n",
        "print(\"\\nData transformed successfully!\")\n",
        "print(\"Processed shape:\", processed_df.shape)\n",
        "print(processed_df.head())"
      ],
      "metadata": {
        "colab": {
          "base_uri": "https://localhost:8080/"
        },
        "id": "JEWMU1VCHXTm",
        "outputId": "e5f946b6-b68f-4d8d-e2a3-0bb8e5909026"
      },
      "execution_count": 7,
      "outputs": [
        {
          "output_type": "stream",
          "name": "stdout",
          "text": [
            "\n",
            "Data transformed successfully!\n",
            "Processed shape: (1462, 1466)\n",
            "       0         1         2         3     4     5     6     7     8     9     \\\n",
            "0 -2.109500  1.415439 -1.491699  0.025321   1.0   0.0   0.0   0.0   0.0   0.0   \n",
            "1 -2.463454  1.862828 -0.838196  0.037162   0.0   1.0   0.0   0.0   0.0   0.0   \n",
            "2 -2.495219  1.564569 -0.475626  0.041972   0.0   0.0   1.0   0.0   0.0   0.0   \n",
            "3 -2.291015  0.630022 -1.221233  0.033647   0.0   0.0   0.0   1.0   0.0   0.0   \n",
            "4 -2.654044  1.554627 -0.680303  0.029946   0.0   0.0   0.0   0.0   1.0   0.0   \n",
            "\n",
            "   ...  1456  1457  1458  1459  1460  1461  1462  1463  1464  1465  \n",
            "0  ...   0.0   0.0   0.0   0.0   0.0   0.0   0.0   0.0   0.0   0.0  \n",
            "1  ...   0.0   0.0   0.0   0.0   0.0   0.0   0.0   0.0   0.0   0.0  \n",
            "2  ...   0.0   0.0   0.0   0.0   0.0   0.0   0.0   0.0   0.0   0.0  \n",
            "3  ...   0.0   0.0   0.0   0.0   0.0   0.0   0.0   0.0   0.0   0.0  \n",
            "4  ...   0.0   0.0   0.0   0.0   0.0   0.0   0.0   0.0   0.0   0.0  \n",
            "\n",
            "[5 rows x 1466 columns]\n"
          ]
        }
      ]
    },
    {
      "cell_type": "code",
      "source": [
        "# Step 7: Train-Test Split (Optional)\n",
        "# Example: If target column is 'Temperature'\n",
        "if 'Temperature' in data.columns:\n",
        "    X = data.drop('Temperature', axis=1)\n",
        "    y = data['Temperature']\n",
        "\n",
        "    X_train, X_test, y_train, y_test = train_test_split(X, y, test_size=0.2, random_state=42)\n",
        "    print(\"\\n✅ Train-Test Split done!\")\n",
        "    print(\"Train shape:\", X_train.shape, \"Test shape:\", X_test.shape)\n"
      ],
      "metadata": {
        "id": "89I6ppVUHed3"
      },
      "execution_count": 8,
      "outputs": []
    }
  ]
}
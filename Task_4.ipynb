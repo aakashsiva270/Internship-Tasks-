{
  "nbformat": 4,
  "nbformat_minor": 0,
  "metadata": {
    "colab": {
      "provenance": []
    },
    "kernelspec": {
      "name": "python3",
      "display_name": "Python 3"
    },
    "language_info": {
      "name": "python"
    }
  },
  "cells": [
    {
      "cell_type": "code",
      "source": [
        "pip install pulp\n"
      ],
      "metadata": {
        "colab": {
          "base_uri": "https://localhost:8080/"
        },
        "id": "-FqHL-Jxus-K",
        "outputId": "a3d7028b-190e-477d-f48f-e0d93c3a4abb"
      },
      "execution_count": 5,
      "outputs": [
        {
          "output_type": "stream",
          "name": "stdout",
          "text": [
            "Collecting pulp\n",
            "  Downloading pulp-3.3.0-py3-none-any.whl.metadata (8.4 kB)\n",
            "Downloading pulp-3.3.0-py3-none-any.whl (16.4 MB)\n",
            "\u001b[2K   \u001b[90m━━━━━━━━━━━━━━━━━━━━━━━━━━━━━━━━━━━━━━━━\u001b[0m \u001b[32m16.4/16.4 MB\u001b[0m \u001b[31m83.9 MB/s\u001b[0m eta \u001b[36m0:00:00\u001b[0m\n",
            "\u001b[?25hInstalling collected packages: pulp\n",
            "Successfully installed pulp-3.3.0\n"
          ]
        }
      ]
    },
    {
      "cell_type": "code",
      "execution_count": 7,
      "metadata": {
        "colab": {
          "base_uri": "https://localhost:8080/"
        },
        "id": "ORVINhr7tUnU",
        "outputId": "458097f2-a700-4594-95b0-444e2290ed1d"
      },
      "outputs": [
        {
          "output_type": "stream",
          "name": "stdout",
          "text": [
            "Status: Optimal\n",
            "Optimal production of P1: 20.0\n",
            "Optimal production of P2: 15.0\n",
            "Maximum Profit ($): 1550.0\n"
          ]
        }
      ],
      "source": [
        "\n",
        "import pulp\n",
        "\n",
        "# Step 2: Define the problem\n",
        "# 'LpMaximize' means we want to maximize the objective function (profit)\n",
        "prob = pulp.LpProblem(\"Maximize_Profit\", pulp.LpMaximize)\n",
        "\n",
        "# Step 3: Define decision variables (number of units to produce)\n",
        "# They cannot be negative, so lowBound=0\n",
        "x1 = pulp.LpVariable('P1_units', lowBound=0, cat='Continuous')\n",
        "x2 = pulp.LpVariable('P2_units', lowBound=0, cat='Continuous')\n",
        "\n",
        "# Step 4: Define the objective function (profit)\n",
        "prob += 40*x1 + 50*x2, \"Total_Profit\"\n",
        "\n",
        "# Step 5: Define the constraints\n",
        "prob += 2*x1 + 4*x2 <= 100, \"Labor_Constraint\"   # Labor hours\n",
        "prob += 3*x1 + 2*x2 <= 90, \"Material_Constraint\" # Material units\n",
        "\n",
        "# Step 6: Solve the problem\n",
        "prob.solve()\n",
        "\n",
        "# Step 7: Output results\n",
        "print(\"Status:\", pulp.LpStatus[prob.status])\n",
        "print(\"Optimal production of P1:\", x1.varValue)\n",
        "print(\"Optimal production of P2:\", x2.varValue)\n",
        "print(\"Maximum Profit ($):\", pulp.value(prob.objective))\n"
      ]
    },
    {
      "cell_type": "code",
      "source": [],
      "metadata": {
        "id": "fKh1dhu0vDvT"
      },
      "execution_count": null,
      "outputs": []
    }
  ]
}